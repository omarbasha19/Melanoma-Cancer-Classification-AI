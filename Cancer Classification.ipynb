{
 "cells": [
  {
   "cell_type": "markdown",
   "id": "0f89c4fc-51ef-4949-a26a-2fd9e6fc551d",
   "metadata": {},
   "source": [
    "# Melanoma Cancer Classification (Benign - Malignant)\n",
    "## Source: Kaggle\n",
    "## <a href=\"https://www.kaggle.com/datasets/bhaveshmittal/melanoma-cancer-dataset\" target=\"_blank\">Click here to open data</a>\n",
    "__________________________________________________________________________________________________________________________________________________________________________________\n",
    "## Dataset Overview\n",
    "\n",
    "-    **Size**: 13,900 images (224x224 pixels):\n",
    "        - 6289 Malignant images\n",
    "        - 5590 Benign images\n",
    "-    **Purpose**: Supporting melanoma diagnosis through machine learning.\n",
    "\n",
    "## Problem\n",
    "\n",
    "-    Melanoma is a dangerous and aggressive form of skin cancer.\n",
    "-    Accurate and timely diagnosis remains challenging with traditional methods.\n",
    "-    Misdiagnosis leads to delayed treatment and poor outcomes.\n",
    "\n",
    "## Solution\n",
    "\n",
    "\n",
    "-    Enhance early detection and diagnostic accuracy.\n",
    "-    Revolutionize dermatology and improve patient outcomes through AI-driven tools.\n"
   ]
  },
  {
   "cell_type": "markdown",
   "id": "94ad6afd",
   "metadata": {},
   "source": [
    "__________________________________________________________________________________________________________________________________________________________________________________\n",
    "\n"
   ]
  },
  {
   "cell_type": "markdown",
   "id": "d715b5b3",
   "metadata": {},
   "source": [
    "# important library"
   ]
  },
  {
   "cell_type": "code",
   "execution_count": 1,
   "id": "791e8003-e603-4daa-aa83-2c13b51a9326",
   "metadata": {},
   "outputs": [],
   "source": [
    "import tensorflow as tf\n",
    "from tensorflow.keras.preprocessing.image import ImageDataGenerator\n",
    "from tensorflow.keras.models import Sequential, Model\n",
    "from tensorflow.keras.layers import Conv2D, MaxPooling2D, Flatten, Dense, Dropout, Input, BatchNormalization, GlobalAveragePooling2D\n",
    "from tensorflow.keras.optimizers import Adam\n",
    "from sklearn.model_selection import train_test_split\n",
    "from tensorflow.keras.callbacks import EarlyStopping\n",
    "from sklearn.metrics import confusion_matrix, classification_report\n",
    "import numpy as np\n",
    "import pandas as pd\n",
    "import matplotlib.pyplot as plt\n",
    "import seaborn as sns\n",
    "import os\n",
    "import shutil"
   ]
  },
  {
   "cell_type": "markdown",
   "id": "6fb8ad72",
   "metadata": {},
   "source": [
    "## Data splitting\n",
    "- **This cell is intended for single-use execution only**"
   ]
  },
  {
   "cell_type": "code",
   "execution_count": 4,
   "id": "32b3491f-323b-49d0-b5a1-da497fad349c",
   "metadata": {},
   "outputs": [
    {
     "name": "stdout",
     "output_type": "stream",
     "text": [
      "Data splitting completed.\n"
     ]
    }
   ],
   "source": [
    "\"\"\"\n",
    "source_path = r\"C:\\Users\\D E L L\\Desktop\\Deep Learning Project\\test\"\n",
    "output_path = r\"C:\\Users\\D E L L\\Desktop\\Deep Learning Project\\cancer_data_split\"\n",
    "\n",
    "for split in ['val', 'test']:\n",
    "    split_path = os.path.join(output_path, split)\n",
    "    os.makedirs(split_path, exist_ok=True)\n",
    "\n",
    "for disease_folder in os.listdir(source_path):\n",
    "    disease_path = os.path.join(source_path, disease_folder)\n",
    "    if not os.path.isdir(disease_path):\n",
    "        continue\n",
    "    \n",
    "    images = [img for img in os.listdir(disease_path) if img.endswith(('png', 'jpg', 'jpeg'))]\n",
    "    val_imgs, test_imgs = train_test_split(images, test_size=0.5, random_state=42)\n",
    "    \n",
    "    for split, split_imgs in zip(['val', 'test'], [val_imgs, test_imgs]):\n",
    "        split_dir = os.path.join(output_path, split, disease_folder)\n",
    "        os.makedirs(split_dir, exist_ok=True)\n",
    "        for img in split_imgs:\n",
    "            shutil.copy(os.path.join(disease_path, img), os.path.join(split_dir, img))\n",
    "\n",
    "print(\"Data splitting completed.\")\n",
    "\"\"\""
   ]
  },
  {
   "cell_type": "markdown",
   "id": "12bf5982-ae4e-45aa-9a43-d46e5777963b",
   "metadata": {},
   "source": [
    "# Creating the Utility class\n",
    "## Purpose of the Class:\n",
    "\n",
    "-    Utility class is designed to handle image data preprocessing and augmentation for training, validation, and testing datasets.\n",
    "\n",
    "## Key Features:\n",
    "\n",
    "-    **Parameters**: Includes flexibility to customize image dimensions, batch size, and augmentation options (rotation, shifting, shearing, zooming, flipping).\n",
    "-    **ImageDataGenerator**: Prepares augmented datasets for training\n",
    "\n",
    "## Attributes:\n",
    "\n",
    "-    **Directories**: Paths for training, validation, and testing datasets.\n",
    "-    **Data Augmentation**: Automatically applies transformations like rotation, zoom, and flipping to enhance training data.\n",
    "\n",
    "## Use Case:\n",
    "\n",
    "-    Simplifies and standardizes preprocessing for deep learning models, making it modular and reusable."
   ]
  },
  {
   "cell_type": "code",
   "execution_count": 2,
   "id": "dad50a77-23ab-4b72-a028-b77e70867e69",
   "metadata": {},
   "outputs": [],
   "source": [
    "class Utility:\n",
    "    def __init__(self, train_dir, val_dir, test_dir, img_height=32, img_width=32, batch_size=32, rotation_range=20, width_shift_range=0.2, height_shift_range=0.2, shear_range=0.2, zoom_range=0.2, horizontal_flip=True):\n",
    "        self.train_dir = train_dir\n",
    "        self.val_dir = val_dir\n",
    "        self.test_dir = test_dir\n",
    "        self.img_height = img_height\n",
    "        self.img_width = img_width\n",
    "        self.batch_size = batch_size\n",
    "        self.rotation_range = rotation_range\n",
    "        self.width_shift_range = width_shift_range\n",
    "        self.height_shift_range = height_shift_range\n",
    "        self.shear_range = shear_range\n",
    "        self.zoom_range = zoom_range\n",
    "        self.horizontal_flip = horizontal_flip\n",
    "\n",
    "        self.train_datagen = ImageDataGenerator(\n",
    "            rescale=1./255,\n",
    "            rotation_range=self.rotation_range,\n",
    "            width_shift_range=self.width_shift_range,\n",
    "            height_shift_range=self.height_shift_range,\n",
    "            shear_range=self.shear_range,\n",
    "            zoom_range=self.zoom_range,\n",
    "            horizontal_flip=self.horizontal_flip,\n",
    "            fill_mode='nearest'\n",
    "        )\n",
    "\n",
    "        self.val_datagen = ImageDataGenerator(rescale=1./255)\n",
    "        self.test_datagen = ImageDataGenerator(rescale=1./255)"
   ]
  },
  {
   "cell_type": "code",
   "execution_count": 3,
   "id": "c01cac40-a261-461f-acf6-41bf483c81a8",
   "metadata": {},
   "outputs": [],
   "source": [
    "utility = Utility(\n",
    "    train_dir=r\"C:\\Users\\D E L L\\Desktop\\Deep Learning Project\\cancer_data_split\\train\",\n",
    "    val_dir=r\"C:\\Users\\D E L L\\Desktop\\Deep Learning Project\\cancer_data_split\\val\",\n",
    "    test_dir=r\"C:\\Users\\D E L L\\Desktop\\Deep Learning Project\\cancer_data_split\\test\"\n",
    ")"
   ]
  },
  {
   "cell_type": "markdown",
   "id": "8fce01d1",
   "metadata": {},
   "source": [
    "# analyze directories\n",
    "- **PurpTraining Dataose**: Counts images in each class within a directory.  \n",
    "    - Training Data\n",
    "    - Validation Data\n",
    "    - Test Data\n",
    "- **Usage**: Applied to training, validation, and test datasets.  \n",
    "- **Output**: Prints class names and image counts."
   ]
  },
  {
   "cell_type": "code",
   "execution_count": 4,
   "id": "ecfd79d2-5f19-4051-9106-a5c9612541c5",
   "metadata": {},
   "outputs": [
    {
     "name": "stdout",
     "output_type": "stream",
     "text": [
      "Training Data:\n",
      "Class 'Benign': 6289 images\n",
      "Class 'Malignant': 5590 images\n",
      "\n",
      "Validation Data:\n",
      "Class 'Benign': 500 images\n",
      "Class 'Malignant': 500 images\n",
      "\n",
      "Test Data:\n",
      "Class 'Benign': 500 images\n",
      "Class 'Malignant': 500 images\n"
     ]
    }
   ],
   "source": [
    "def analyze_directories(directory):\n",
    "    for class_name in os.listdir(directory):\n",
    "        class_path = os.path.join(directory, class_name)\n",
    "        if os.path.isdir(class_path):\n",
    "            print(f\"Class '{class_name}': {len(os.listdir(class_path))} images\")\n",
    "            \n",
    "print(\"Training Data:\")\n",
    "analyze_directories(utility.train_dir)\n",
    "\n",
    "print(\"\\nValidation Data:\")\n",
    "analyze_directories(utility.val_dir)\n",
    "\n",
    "print(\"\\nTest Data:\")\n",
    "analyze_directories(utility.test_dir)\n"
   ]
  },
  {
   "cell_type": "markdown",
   "id": "7da45d18",
   "metadata": {},
   "source": [
    "# Class Distribution Analysis"
   ]
  },
  {
   "cell_type": "code",
   "execution_count": 5,
   "id": "6d38b97e-667d-4cf1-ba94-722fd9615e9a",
   "metadata": {},
   "outputs": [
    {
     "name": "stdout",
     "output_type": "stream",
     "text": [
      "Training Class Distribution:\n",
      "           Count\n",
      "Benign      6289\n",
      "Malignant   5590\n"
     ]
    },
    {
     "data": {
      "image/png": "[encoded data removed]",
      "text/plain": [
       "<Figure size 640x480 with 1 Axes>"
      ]
     },
     "metadata": {},
     "output_type": "display_data"
    }
   ],
   "source": [
    "def class_distribution(directory):\n",
    "    class_counts = {}\n",
    "    for class_name in os.listdir(directory):\n",
    "        class_path = os.path.join(directory, class_name)\n",
    "        if os.path.isdir(class_path):\n",
    "            class_counts[class_name] = len(os.listdir(class_path))\n",
    "    return pd.DataFrame.from_dict(class_counts, orient='index', columns=['Count'])\n",
    "\n",
    "\n",
    "train_distribution = class_distribution(utility.train_dir)\n",
    "val_distribution = class_distribution(utility.val_dir)\n",
    "test_distribution = class_distribution(utility.test_dir)\n",
    "\n",
    "\n",
    "print(\"Training Class Distribution:\")\n",
    "print(train_distribution)\n",
    "\n",
    "\n",
    "train_distribution.plot(\n",
    "    kind='bar',\n",
    "    title=\"Training Class Distribution\",\n",
    "    color=['green' if idx == 'Benign' else 'red' for idx in train_distribution.index]\n",
    ")\n",
    "plt.xlabel(\"Classes\")\n",
    "plt.ylabel(\"Count\")\n",
    "plt.xticks(rotation=0)  \n",
    "plt.show()\n"
   ]
  },
  {
   "cell_type": "markdown",
   "id": "4e219cfb-dc9f-47c7-93ff-842ff43a6e56",
   "metadata": {},
   "source": [
    "# Creating the training, validation and testing image generators\n",
    "- **Purpose**: Generates data loaders for training, validation, and testing.  \n",
    "- **Functionality**: Resizes, batches, and preprocesses images with `flow_from_directory`.  \n",
    "- **Output**: Creates `train_generator`, `val_generator`, and `test_generator`.  \n",
    "- **Prints**: Confirms creation.  "
   ]
  },
  {
   "cell_type": "code",
   "execution_count": 6,
   "id": "7be2856f-fa27-4cec-a4fe-3ca3663dfb3f",
   "metadata": {},
   "outputs": [],
   "source": [
    "def create_generators(self):\n",
    "    self.train_generator = self.train_datagen.flow_from_directory(\n",
    "        self.train_dir,\n",
    "        target_size=(self.img_height, self.img_width),\n",
    "        batch_size=self.batch_size,\n",
    "        color_mode='rgb',\n",
    "        class_mode='categorical'\n",
    "    )\n",
    "\n",
    "    self.val_generator = self.val_datagen.flow_from_directory(\n",
    "        self.val_dir,\n",
    "        target_size=(self.img_height, self.img_width),\n",
    "        batch_size=self.batch_size,\n",
    "        color_mode='rgb',\n",
    "        class_mode='categorical'\n",
    "    )\n",
    "\n",
    "    self.test_generator = self.test_datagen.flow_from_directory(\n",
    "        self.test_dir,\n",
    "        target_size=(self.img_height, self.img_width),\n",
    "        batch_size=self.batch_size,\n",
    "        color_mode='rgb',\n",
    "        class_mode='categorical'\n",
    "    )\n",
    "    print(\"Generators Created\")\n",
    "Utility.create_generators = create_generators"
   ]
  },
  {
   "cell_type": "markdown",
   "id": "00ab2fbc-d56d-4205-8175-fe80d035b165",
   "metadata": {},
   "source": [
    "# Building the model architecture\n",
    "## **Key Points**\n",
    "\n",
    "- **Purpose**: Defines a convolutional neural network (CNN) for image classification.  \n",
    "\n",
    "- **Architecture**:\n",
    "   - **Input Layer**: Accepts images with dimensions `(img_height, img_width, 3)`.\n",
    "   - **Convolution Layers**: Two `Conv2D` layers with ReLU activation and batch normalization for feature extraction.\n",
    "   - **Pooling**: Two `MaxPooling2D` layers for dimensionality reduction.\n",
    "   - **Fully Connected Layers**: Four dense layers (64, 32, 16, 8 neurons) with ReLU activation for learning complex patterns.\n",
    "   - **Dropout**: Reduces overfitting by randomly deactivating neurons.\n",
    "   - **Output Layer**: A dense layer with 2 neurons and softmax activation for binary classification.\n",
    "\n",
    "- **Output**: Returns the compiled model ready for training.  \n",
    "\n",
    "- **Prints**: Confirms model creation (currently unreachable after `return`, can be moved)."
   ]
  },
  {
   "cell_type": "code",
   "execution_count": 7,
   "id": "2185df19-b327-43e4-98f7-23d8b30a7bd9",
   "metadata": {},
   "outputs": [],
   "source": [
    "def build_model(self):\n",
    "    model = Sequential([\n",
    "        Input(shape=(self.img_height, self.img_width, 3)),\n",
    "        Conv2D(64, (3, 3), activation='relu', padding=\"same\"),\n",
    "        BatchNormalization(),\n",
    "        MaxPooling2D((2, 2)),\n",
    "\n",
    "        Conv2D(128, (3, 3), activation='relu', padding=\"same\"),\n",
    "        BatchNormalization(),\n",
    "        MaxPooling2D((2, 2)),\n",
    "\n",
    "        Flatten(),\n",
    "        Dense(64, activation='relu'),\n",
    "        Dense(32, activation='relu'),\n",
    "        Dense(16, activation='relu'),\n",
    "        Dense(8, activation='relu'),\n",
    "\n",
    "        Dropout(0.5),\n",
    "        Dense(2, activation='softmax')\n",
    "    ])\n",
    "    return model\n",
    "    print(\"Model built successfully\")\n",
    "Utility.build_model = build_model"
   ]
  },
  {
   "cell_type": "markdown",
   "id": "374f0acd-162c-4095-bc5f-74c8289ee28a",
   "metadata": {},
   "source": [
    "# Compiling the model"
   ]
  },
  {
   "cell_type": "code",
   "execution_count": 8,
   "id": "924b3ecb-9db5-4fcf-8431-9ec7096a9cc5",
   "metadata": {},
   "outputs": [],
   "source": [
    "def compile_model(self, model, learning_rate=0.001):\n",
    "    model.compile(\n",
    "        optimizer=Adam(learning_rate=learning_rate),\n",
    "        loss='categorical_crossentropy',\n",
    "        metrics=['accuracy']\n",
    "    )\n",
    "    return model\n",
    "    print(\"Model Compiled successfully\")\n",
    "Utility.compile_model = compile_model"
   ]
  },
  {
   "cell_type": "markdown",
   "id": "3812580a-ba57-4541-af0e-667b45979563",
   "metadata": {},
   "source": [
    "# Training the model"
   ]
  },
  {
   "cell_type": "code",
   "execution_count": 9,
   "id": "cfe9391a-f067-4218-b62a-559020c477f4",
   "metadata": {},
   "outputs": [],
   "source": [
    "def train_model(self, model, epochs=20):\n",
    "    history = model.fit(\n",
    "        self.train_generator,\n",
    "        epochs=epochs,\n",
    "        validation_data=self.val_generator\n",
    "    )\n",
    "    return history\n",
    "    print(\"Model trained successfully\")\n",
    "Utility.train_model = train_model"
   ]
  },
  {
   "cell_type": "markdown",
   "id": "169a2489-2a2c-4f8c-9c1b-56383a43f35f",
   "metadata": {},
   "source": [
    "# Model Evaluation"
   ]
  },
  {
   "cell_type": "code",
   "execution_count": 10,
   "id": "7a280f6c-3889-42d7-b01e-998128c5214f",
   "metadata": {},
   "outputs": [],
   "source": [
    "def evaluate_model(self, model):\n",
    "    test_loss, test_acc = model.evaluate(self.test_generator)\n",
    "\n",
    "    print('Test Loss:', test_loss)\n",
    "    print('Test Accuracy:', test_acc)\n",
    "\n",
    "    return test_loss, test_acc\n",
    "Utility.evaluate_model = evaluate_model"
   ]
  },
  {
   "cell_type": "markdown",
   "id": "eccead2d-a332-40d8-b01d-6dfc45556ffa",
   "metadata": {},
   "source": [
    "# Creating the Helper class\n",
    "- **Purpose**: The Helper class manages the training workflow using the Utility class.\n",
    "- Key Function (run):\n",
    "\n",
    "    - Reinitializes the Utility object with updated parameters.\n",
    "    - Creates data generators (create_generators).\n",
    "    - Builds, compiles, and trains the model (build_model, compile_model, train_model).\n",
    "    - Evaluates the model on the test set (evaluate_model).\n",
    "\n",
    "- **Output**: Returns the trained model, test loss, and test accuracy."
   ]
  },
  {
   "cell_type": "code",
   "execution_count": 11,
   "id": "8fcbb470-c329-44a3-9bb4-56f3b7cb82c6",
   "metadata": {},
   "outputs": [],
   "source": [
    "class Helper:\n",
    "    def __init__(self, utility):\n",
    "        self.utility = utility\n",
    "\n",
    "    def run(self, learning_rate=0.001, epochs=20, batch_size=32, img_height=32, img_width=32, rotation_range=20, width_shift_range=0.2, height_shift_range=0.2, shear_range=0.2, zoom_range=0.2, horizontal_flip=True):\n",
    "        self.utility.__init__(\n",
    "            self.utility.train_dir,\n",
    "            self.utility.val_dir,\n",
    "            self.utility.test_dir,\n",
    "            img_height=img_height,\n",
    "            img_width=img_width,\n",
    "            batch_size=batch_size,\n",
    "            rotation_range=rotation_range,\n",
    "            width_shift_range=width_shift_range,\n",
    "            height_shift_range=height_shift_range,\n",
    "            shear_range=shear_range,\n",
    "            zoom_range=zoom_range,\n",
    "            horizontal_flip=horizontal_flip\n",
    "        )\n",
    "\n",
    "        self.utility.create_generators()\n",
    "        model = self.utility.build_model()\n",
    "        model = self.utility.compile_model(model, learning_rate=learning_rate)\n",
    "        history = self.utility.train_model(model, epochs=epochs)\n",
    "        test_loss, test_acc = self.utility.evaluate_model(model)\n",
    "\n",
    "        return model, test_loss, test_acc"
   ]
  },
  {
   "cell_type": "markdown",
   "id": "25bbce2f-87df-4d7b-9432-c1b7eb16353c",
   "metadata": {},
   "source": [
    "# Running model 1"
   ]
  },
  {
   "cell_type": "code",
   "execution_count": 12,
   "id": "4a63b12c-aee4-416d-892d-d72a6d527463",
   "metadata": {},
   "outputs": [
    {
     "name": "stdout",
     "output_type": "stream",
     "text": [
      "Found 11879 images belonging to 2 classes.\n",
      "Found 1000 images belonging to 2 classes.\n",
      "Found 1000 images belonging to 2 classes.\n",
      "Generators Created\n",
      "Epoch 1/10\n"
     ]
    },
    {
     "name": "stderr",
     "output_type": "stream",
     "text": [
      "D:\\Downloads\\anaconda\\envs\\Ahmed\\Lib\\site-packages\\keras\\src\\trainers\\data_adapters\\py_dataset_adapter.py:121: UserWarning: Your `PyDataset` class should call `super().__init__(**kwargs)` in its constructor. `**kwargs` can include `workers`, `use_multiprocessing`, `max_queue_size`. Do not pass these arguments to `fit()`, as they will be ignored.\n",
      "  self._warn_if_super_not_called()\n"
     ]
    },
    {
     "name": "stdout",
     "output_type": "stream",
     "text": [
      "\u001b[1m186/186\u001b[0m \u001b[32m━━━━━━━━━━━━━━━━━━━━\u001b[0m\u001b[37m\u001b[0m \u001b[1m26s\u001b[0m 129ms/step - accuracy: 0.7145 - loss: 0.5491 - val_accuracy: 0.7090 - val_loss: 0.5908\n",
      "Epoch 2/10\n",
      "\u001b[1m186/186\u001b[0m \u001b[32m━━━━━━━━━━━━━━━━━━━━\u001b[0m\u001b[37m\u001b[0m \u001b[1m18s\u001b[0m 99ms/step - accuracy: 0.7556 - loss: 0.4534 - val_accuracy: 0.6190 - val_loss: 0.6306\n",
      "Epoch 3/10\n",
      "\u001b[1m186/186\u001b[0m \u001b[32m━━━━━━━━━━━━━━━━━━━━\u001b[0m\u001b[37m\u001b[0m \u001b[1m19s\u001b[0m 100ms/step - accuracy: 0.7754 - loss: 0.4322 - val_accuracy: 0.6560 - val_loss: 0.5392\n",
      "Epoch 4/10\n",
      "\u001b[1m186/186\u001b[0m \u001b[32m━━━━━━━━━━━━━━━━━━━━\u001b[0m\u001b[37m\u001b[0m \u001b[1m18s\u001b[0m 99ms/step - accuracy: 0.7912 - loss: 0.4133 - val_accuracy: 0.8660 - val_loss: 0.3574\n",
      "Epoch 5/10\n",
      "\u001b[1m186/186\u001b[0m \u001b[32m━━━━━━━━━━━━━━━━━━━━\u001b[0m\u001b[37m\u001b[0m \u001b[1m20s\u001b[0m 108ms/step - accuracy: 0.7852 - loss: 0.4352 - val_accuracy: 0.8140 - val_loss: 0.3885\n",
      "Epoch 6/10\n",
      "\u001b[1m186/186\u001b[0m \u001b[32m━━━━━━━━━━━━━━━━━━━━\u001b[0m\u001b[37m\u001b[0m \u001b[1m20s\u001b[0m 108ms/step - accuracy: 0.7984 - loss: 0.4172 - val_accuracy: 0.8190 - val_loss: 0.3825\n",
      "Epoch 7/10\n",
      "\u001b[1m186/186\u001b[0m \u001b[32m━━━━━━━━━━━━━━━━━━━━\u001b[0m\u001b[37m\u001b[0m \u001b[1m20s\u001b[0m 110ms/step - accuracy: 0.8034 - loss: 0.4040 - val_accuracy: 0.6830 - val_loss: 0.6079\n",
      "Epoch 8/10\n",
      "\u001b[1m186/186\u001b[0m \u001b[32m━━━━━━━━━━━━━━━━━━━━\u001b[0m\u001b[37m\u001b[0m \u001b[1m20s\u001b[0m 106ms/step - accuracy: 0.8057 - loss: 0.3929 - val_accuracy: 0.8750 - val_loss: 0.3168\n",
      "Epoch 9/10\n",
      "\u001b[1m186/186\u001b[0m \u001b[32m━━━━━━━━━━━━━━━━━━━━\u001b[0m\u001b[37m\u001b[0m \u001b[1m20s\u001b[0m 109ms/step - accuracy: 0.8105 - loss: 0.3978 - val_accuracy: 0.8290 - val_loss: 0.5440\n",
      "Epoch 10/10\n",
      "\u001b[1m186/186\u001b[0m \u001b[32m━━━━━━━━━━━━━━━━━━━━\u001b[0m\u001b[37m\u001b[0m \u001b[1m20s\u001b[0m 107ms/step - accuracy: 0.8083 - loss: 0.3941 - val_accuracy: 0.7650 - val_loss: 0.4133\n",
      "\u001b[1m16/16\u001b[0m \u001b[32m━━━━━━━━━━━━━━━━━━━━\u001b[0m\u001b[37m\u001b[0m \u001b[1m1s\u001b[0m 50ms/step - accuracy: 0.7508 - loss: 0.4175\n",
      "Test Loss: 0.4243881106376648\n",
      "Test Accuracy: 0.7329999804496765\n"
     ]
    }
   ],
   "source": [
    "helper = Helper(utility)\n",
    "scenario_1, loss_1, acc_1 = helper.run(\n",
    "    learning_rate=0.0005,\n",
    "    epochs=10,\n",
    "    batch_size=64,\n",
    "    img_height=32,\n",
    "    img_width=32,\n",
    "    rotation_range=30,\n",
    "    width_shift_range=0.3,\n",
    "    height_shift_range=0.3,\n",
    "    shear_range=0.3,\n",
    "    zoom_range=0.3,\n",
    "    horizontal_flip=True\n",
    ")"
   ]
  },
  {
   "cell_type": "markdown",
   "id": "e3c859f4",
   "metadata": {},
   "source": [
    "# save model 1"
   ]
  },
  {
   "cell_type": "code",
   "execution_count": 14,
   "id": "6864b57f-721e-4258-bdb1-d2efc772eb99",
   "metadata": {},
   "outputs": [
    {
     "name": "stderr",
     "output_type": "stream",
     "text": [
      "WARNING:absl:You are saving your model as an HDF5 file via `model.save()` or `keras.saving.save_model(model)`. This file format is considered legacy. We recommend using instead the native Keras format, e.g. `model.save('my_model.keras')` or `keras.saving.save_model(model, 'my_model.keras')`. \n"
     ]
    }
   ],
   "source": [
    "#scenario_1.save(\"model.h5\")"
   ]
  },
  {
   "cell_type": "code",
   "execution_count": 42,
   "id": "5ee301a7-b9e1-4ab7-a4b4-91e939c84943",
   "metadata": {},
   "outputs": [
    {
     "data": {
      "image/png": "[encoded data removed]",
      "text/plain": [
       "<Figure size 640x480 with 1 Axes>"
      ]
     },
     "metadata": {},
     "output_type": "display_data"
    }
   ],
   "source": [
    "def plot_pixel_histogram(generator):\n",
    "    x_batch, y_batch = next(generator)\n",
    "    plt.hist(x_batch.flatten(), bins=50, color='blue', alpha=0.7)\n",
    "    plt.title(\"Pixel Intensity Distribution\")\n",
    "    plt.xlabel(\"Pixel Intensity\")\n",
    "    plt.ylabel(\"Frequency\")\n",
    "    plt.show()\n",
    "\n",
    "plot_pixel_histogram(utility.train_generator)"
   ]
  },
  {
   "cell_type": "markdown",
   "id": "be579919",
   "metadata": {},
   "source": [
    "__________________________________________________________________________________________________________________________________________________________________________________"
   ]
  },
  {
   "cell_type": "markdown",
   "id": "b81a3c02",
   "metadata": {},
   "source": [
    "# Running model 2"
   ]
  },
  {
   "cell_type": "code",
   "execution_count": 15,
   "id": "4591cc01-96ee-427f-b55f-7f35a4747e97",
   "metadata": {},
   "outputs": [
    {
     "name": "stdout",
     "output_type": "stream",
     "text": [
      "Found 11879 images belonging to 2 classes.\n",
      "Found 1000 images belonging to 2 classes.\n",
      "Found 1000 images belonging to 2 classes.\n",
      "Generators Created\n",
      "Epoch 1/10\n",
      "\u001b[1m372/372\u001b[0m \u001b[32m━━━━━━━━━━━━━━━━━━━━\u001b[0m\u001b[37m\u001b[0m \u001b[1m14s\u001b[0m 32ms/step - accuracy: 0.7228 - loss: 0.5363 - val_accuracy: 0.7930 - val_loss: 0.5239\n",
      "Epoch 2/10\n",
      "\u001b[1m372/372\u001b[0m \u001b[32m━━━━━━━━━━━━━━━━━━━━\u001b[0m\u001b[37m\u001b[0m \u001b[1m9s\u001b[0m 24ms/step - accuracy: 0.7822 - loss: 0.4685 - val_accuracy: 0.8360 - val_loss: 0.4115\n",
      "Epoch 3/10\n",
      "\u001b[1m372/372\u001b[0m \u001b[32m━━━━━━━━━━━━━━━━━━━━\u001b[0m\u001b[37m\u001b[0m \u001b[1m9s\u001b[0m 25ms/step - accuracy: 0.7825 - loss: 0.4640 - val_accuracy: 0.8190 - val_loss: 0.3911\n",
      "Epoch 4/10\n",
      "\u001b[1m372/372\u001b[0m \u001b[32m━━━━━━━━━━━━━━━━━━━━\u001b[0m\u001b[37m\u001b[0m \u001b[1m9s\u001b[0m 23ms/step - accuracy: 0.7944 - loss: 0.4448 - val_accuracy: 0.7910 - val_loss: 0.4590\n",
      "Epoch 5/10\n",
      "\u001b[1m372/372\u001b[0m \u001b[32m━━━━━━━━━━━━━━━━━━━━\u001b[0m\u001b[37m\u001b[0m \u001b[1m9s\u001b[0m 24ms/step - accuracy: 0.8027 - loss: 0.4309 - val_accuracy: 0.8870 - val_loss: 0.3530\n",
      "Epoch 6/10\n",
      "\u001b[1m372/372\u001b[0m \u001b[32m━━━━━━━━━━━━━━━━━━━━\u001b[0m\u001b[37m\u001b[0m \u001b[1m9s\u001b[0m 25ms/step - accuracy: 0.8069 - loss: 0.4261 - val_accuracy: 0.8520 - val_loss: 0.3791\n",
      "Epoch 7/10\n",
      "\u001b[1m372/372\u001b[0m \u001b[32m━━━━━━━━━━━━━━━━━━━━\u001b[0m\u001b[37m\u001b[0m \u001b[1m9s\u001b[0m 25ms/step - accuracy: 0.8106 - loss: 0.4228 - val_accuracy: 0.8850 - val_loss: 0.3262\n",
      "Epoch 8/10\n",
      "\u001b[1m372/372\u001b[0m \u001b[32m━━━━━━━━━━━━━━━━━━━━\u001b[0m\u001b[37m\u001b[0m \u001b[1m9s\u001b[0m 25ms/step - accuracy: 0.8132 - loss: 0.4206 - val_accuracy: 0.8060 - val_loss: 0.4367\n",
      "Epoch 9/10\n",
      "\u001b[1m372/372\u001b[0m \u001b[32m━━━━━━━━━━━━━━━━━━━━\u001b[0m\u001b[37m\u001b[0m \u001b[1m9s\u001b[0m 24ms/step - accuracy: 0.8124 - loss: 0.4234 - val_accuracy: 0.8420 - val_loss: 0.3727\n",
      "Epoch 10/10\n",
      "\u001b[1m372/372\u001b[0m \u001b[32m━━━━━━━━━━━━━━━━━━━━\u001b[0m\u001b[37m\u001b[0m \u001b[1m8s\u001b[0m 23ms/step - accuracy: 0.8161 - loss: 0.4218 - val_accuracy: 0.8210 - val_loss: 0.4274\n",
      "\u001b[1m32/32\u001b[0m \u001b[32m━━━━━━━━━━━━━━━━━━━━\u001b[0m\u001b[37m\u001b[0m \u001b[1m1s\u001b[0m 19ms/step - accuracy: 0.7992 - loss: 0.4310\n",
      "Test Loss: 0.41559863090515137\n",
      "Test Accuracy: 0.8040000200271606\n"
     ]
    }
   ],
   "source": [
    "helper = Helper(utility)\n",
    "scenario_2, loss_2, acc_2 = helper.run(\n",
    "    learning_rate=0.0005,\n",
    "    epochs=10,\n",
    "    batch_size=32,\n",
    "    img_height=8,\n",
    "    img_width=8,\n",
    "    rotation_range=30,\n",
    "    width_shift_range=0.3,\n",
    "    height_shift_range=0.3,\n",
    "    shear_range=0.3,\n",
    "    zoom_range=0.3,\n",
    "    horizontal_flip=True\n",
    ")"
   ]
  },
  {
   "cell_type": "markdown",
   "id": "abc422a6",
   "metadata": {},
   "source": [
    "# save model 2"
   ]
  },
  {
   "cell_type": "code",
   "execution_count": 17,
   "id": "66e0f691-1a58-47fd-98e7-75bc59ff35b4",
   "metadata": {},
   "outputs": [
    {
     "name": "stderr",
     "output_type": "stream",
     "text": [
      "WARNING:absl:You are saving your model as an HDF5 file via `model.save()` or `keras.saving.save_model(model)`. This file format is considered legacy. We recommend using instead the native Keras format, e.g. `model.save('my_model.keras')` or `keras.saving.save_model(model, 'my_model.keras')`. \n"
     ]
    }
   ],
   "source": [
    "scenario_2.save(\"Model_2.h5\")"
   ]
  },
  {
   "cell_type": "markdown",
   "id": "13682639",
   "metadata": {},
   "source": [
    "__________________________________________________________________________________________________________________________________________________________________________________"
   ]
  },
  {
   "cell_type": "markdown",
   "id": "ade7ba07",
   "metadata": {},
   "source": [
    "# Comparing Accuracies among Models"
   ]
  },
  {
   "cell_type": "code",
   "execution_count": 51,
   "id": "823749c0-b3b0-4567-8911-fa39d0942cd9",
   "metadata": {
    "scrolled": true
   },
   "outputs": [
    {
     "data": {
      "image/png": "[encoded data removed]",
      "text/plain": [
       "<Figure size 640x480 with 1 Axes>"
      ]
     },
     "metadata": {},
     "output_type": "display_data"
    }
   ],
   "source": [
    "models = ['Scenario 1', 'Scenario 2']\n",
    "accuracies = [acc_1, acc_2]\n",
    "losses = [loss_1, loss_2]\n",
    "\n",
    "colors = ['skyblue', 'salmon']\n",
    "\n",
    "plt.bar(models, accuracies, color=colors)\n",
    "plt.grid(axis='y')\n",
    "plt.title(\"Comparing Accuracies among Models\")\n",
    "plt.ylim(0.8, 0.9)\n",
    "plt.xticks(rotation=0)\n",
    "plt.xlabel(\"Models\")\n",
    "plt.ylabel(\"Accuracy\")\n",
    "plt.show()\n"
   ]
  },
  {
   "cell_type": "markdown",
   "id": "884a3bbf",
   "metadata": {},
   "source": [
    "__________________________________________________________________________________________________________________________________________________________________________________"
   ]
  },
  {
   "cell_type": "markdown",
   "id": "f34c73f7",
   "metadata": {},
   "source": [
    "# **Model Performance Summary**\n",
    "\n",
    "- **Model 1** achieved a **test accuracy of 86.5%**, demonstrating strong performance.  \n",
    "- **Model 2** reached a **test accuracy of 80.4%**, performing slightly lower than Model 1.  \n",
    "\n",
    "**Conclusion**: Model 1 outperforms Model 2, making it the better choice for this task based on accuracy."
   ]
  }
 ],
 "metadata": {
  "kernelspec": {
   "display_name": "Python 3 (ipykernel)",
   "language": "python",
   "name": "python3"
  },
  "language_info": {
   "codemirror_mode": {
    "name": "ipython",
    "version": 3
   },
   "file_extension": ".py",
   "mimetype": "text/x-python",
   "name": "python",
   "nbconvert_exporter": "python",
   "pygments_lexer": "ipython3",
   "version": "3.11.11"
  }
 },
 "nbformat": 4,
 "nbformat_minor": 5
}
